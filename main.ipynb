{
 "cells": [
  {
   "cell_type": "code",
   "execution_count": 1,
   "metadata": {},
   "outputs": [],
   "source": [
    "import pandas as pd\n",
    "import numpy as np\n",
    "from profiler import profiler\n",
    "\n",
    "# CREATE DATAFRAME\n",
    "df = pd.read_excel(\"Employee Turnover Dataset.xlsx\")\n",
    "\n",
    "# REMOVE DUPLICATE ROWS\n",
    "df = df.drop_duplicates()\n",
    "\n",
    "# CONVERT NoneType TO NaN AND REPLACE BLANKS WITH NaN\n",
    "df = df.map(lambda x: np.nan if x is None or (isinstance(x, str) and x.strip() == '') else x)"
   ]
  },
  {
   "cell_type": "code",
   "execution_count": 2,
   "metadata": {},
   "outputs": [],
   "source": [
    "# AGE COLUMN - Removes ages outside reasonable range\n",
    "df.loc[(df['Age'] > 90) | (df['Age'] < 16), 'Age'] = np.NaN"
   ]
  },
  {
   "cell_type": "code",
   "execution_count": 3,
   "metadata": {},
   "outputs": [],
   "source": [
    "# BUSINESSTRAVEL COLUMN - Make NaN if value doesn't match 1 of the 3 categories \n",
    "df.loc[~df['BusinessTravel'].isin(['Non-Travel', 'Travel_Frequently', 'Travel_Rarely']), 'BusinessTravel'] = np.nan"
   ]
  },
  {
   "cell_type": "code",
   "execution_count": 4,
   "metadata": {},
   "outputs": [],
   "source": [
    "# DISTANCEFROMHOME COLUMN - Change abnormal values to NaN\n",
    "df.loc[(df['DistanceFromHome'] > 90), 'DistanceFromHome'] = np.NaN"
   ]
  },
  {
   "cell_type": "code",
   "execution_count": 5,
   "metadata": {},
   "outputs": [],
   "source": [
    "## EMPLOYEECOUNT COLUMN - Should always be 1\n",
    "df['EmployeeCount'] = df['EmployeeCount'].map(lambda x: 1 if x != 1 else x)"
   ]
  },
  {
   "cell_type": "code",
   "execution_count": 6,
   "metadata": {},
   "outputs": [],
   "source": [
    "## MONTHLYINCOME - Change negative values to absolute values\n",
    "df['MonthlyIncome'] = df['MonthlyIncome'].abs()"
   ]
  },
  {
   "cell_type": "code",
   "execution_count": 7,
   "metadata": {},
   "outputs": [],
   "source": [
    "# MONTHLYRATE COLUMN - Change abnormal values to NaN\n",
    "df.loc[(df['MonthlyRate'] > 5500100), 'MonthlyRate'] = np.NaN"
   ]
  },
  {
   "cell_type": "code",
   "execution_count": 8,
   "metadata": {},
   "outputs": [],
   "source": [
    "## TOTALWORKINGYEARS - Convert negative numbers to NaN\n",
    "df.loc[(df['TotalWorkingYears'] < 0), 'TotalWorkingYears'] = np.NaN"
   ]
  },
  {
   "cell_type": "code",
   "execution_count": 9,
   "metadata": {},
   "outputs": [],
   "source": [
    "## TRAININGTIMESLASTYEAR - Convert NaN hours to 0 hours, has many NaN values but no zero values \n",
    "df.loc[pd.isna(df['TrainingTimesLastYear']), 'TrainingTimesLastYear'] = 0"
   ]
  },
  {
   "cell_type": "code",
   "execution_count": 10,
   "metadata": {},
   "outputs": [],
   "source": [
    "## YEARSWITHCURRENTMANAGER - Convert outlying data to NaN\n",
    "\n",
    "# Replace non-integer values with NaN\n",
    "df.loc[~df['YearsWithCurrManager'].apply(lambda x: isinstance(x, int)), 'YearsWithCurrManager'] = np.NaN\n",
    "\n",
    "# Replace values less than 0 or greater than 100 with NaN\n",
    "df.loc[(df['YearsWithCurrManager'] < 0) | (df['YearsWithCurrManager'] > 100), 'YearsWithCurrManager'] = np.NaN"
   ]
  },
  {
   "cell_type": "code",
   "execution_count": 11,
   "metadata": {},
   "outputs": [
    {
     "name": "stdout",
     "output_type": "stream",
     "text": [
      "Values in 'Gender' have mixed types: str, float.\n",
      "\n",
      "Number of NaN or Null values in 'Gender': 3\n",
      "Number of blank space values in 'Gender': 0\n",
      "\n",
      "Unique values in 'Gender' (sorted):\n",
      "[nan, 'Female', 'Male']\n",
      "\n",
      "Are there null values in 'Gender'? Yes\n",
      "\n",
      "Describe output for 'Gender':\n",
      "       Gender\n",
      "count   10021\n",
      "unique      2\n",
      "top      Male\n",
      "freq     5028\n"
     ]
    },
    {
     "data": {
      "text/html": [
       "<div>\n",
       "<style scoped>\n",
       "    .dataframe tbody tr th:only-of-type {\n",
       "        vertical-align: middle;\n",
       "    }\n",
       "\n",
       "    .dataframe tbody tr th {\n",
       "        vertical-align: top;\n",
       "    }\n",
       "\n",
       "    .dataframe thead th {\n",
       "        text-align: right;\n",
       "    }\n",
       "</style>\n",
       "<table border=\"1\" class=\"dataframe\">\n",
       "  <thead>\n",
       "    <tr style=\"text-align: right;\">\n",
       "      <th></th>\n",
       "      <th>Gender</th>\n",
       "    </tr>\n",
       "  </thead>\n",
       "  <tbody>\n",
       "    <tr>\n",
       "      <th>0</th>\n",
       "      <td>Female</td>\n",
       "    </tr>\n",
       "    <tr>\n",
       "      <th>1</th>\n",
       "      <td>Male</td>\n",
       "    </tr>\n",
       "    <tr>\n",
       "      <th>2</th>\n",
       "      <td>Female</td>\n",
       "    </tr>\n",
       "    <tr>\n",
       "      <th>3</th>\n",
       "      <td>Female</td>\n",
       "    </tr>\n",
       "    <tr>\n",
       "      <th>4</th>\n",
       "      <td>Female</td>\n",
       "    </tr>\n",
       "    <tr>\n",
       "      <th>...</th>\n",
       "      <td>...</td>\n",
       "    </tr>\n",
       "    <tr>\n",
       "      <th>10316</th>\n",
       "      <td>Male</td>\n",
       "    </tr>\n",
       "    <tr>\n",
       "      <th>10317</th>\n",
       "      <td>Male</td>\n",
       "    </tr>\n",
       "    <tr>\n",
       "      <th>10318</th>\n",
       "      <td>Female</td>\n",
       "    </tr>\n",
       "    <tr>\n",
       "      <th>10320</th>\n",
       "      <td>Male</td>\n",
       "    </tr>\n",
       "    <tr>\n",
       "      <th>10321</th>\n",
       "      <td>Male</td>\n",
       "    </tr>\n",
       "  </tbody>\n",
       "</table>\n",
       "<p>10024 rows × 1 columns</p>\n",
       "</div>"
      ],
      "text/plain": [
       "       Gender\n",
       "0      Female\n",
       "1        Male\n",
       "2      Female\n",
       "3      Female\n",
       "4      Female\n",
       "...       ...\n",
       "10316    Male\n",
       "10317    Male\n",
       "10318  Female\n",
       "10320    Male\n",
       "10321    Male\n",
       "\n",
       "[10024 rows x 1 columns]"
      ]
     },
     "execution_count": 11,
     "metadata": {},
     "output_type": "execute_result"
    }
   ],
   "source": [
    "## CUSTOM PROFILER SCRIPT\n",
    "profiler(df, 'Gender')\n",
    "\n",
    "#df.to_excel('cleaned_data.xlsx', index=False)"
   ]
  }
 ],
 "metadata": {
  "kernelspec": {
   "display_name": "base",
   "language": "python",
   "name": "python3"
  },
  "language_info": {
   "codemirror_mode": {
    "name": "ipython",
    "version": 3
   },
   "file_extension": ".py",
   "mimetype": "text/x-python",
   "name": "python",
   "nbconvert_exporter": "python",
   "pygments_lexer": "ipython3",
   "version": "3.12.3"
  }
 },
 "nbformat": 4,
 "nbformat_minor": 2
}
