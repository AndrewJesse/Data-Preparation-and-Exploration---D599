{
 "cells": [
  {
   "cell_type": "code",
   "execution_count": 7,
   "metadata": {},
   "outputs": [],
   "source": [
    "import pandas as pd\n",
    "from profiler import profiler\n",
    "\n",
    "## CREATE DATAFRAME\n",
    "df = pd.read_excel(\"Employee Turnover Dataset.xlsx\")"
   ]
  },
  {
   "cell_type": "code",
   "execution_count": 8,
   "metadata": {},
   "outputs": [],
   "source": [
    "## REMOVE DUPLICATE ROWS\n",
    "df = df.drop_duplicates()"
   ]
  },
  {
   "cell_type": "code",
   "execution_count": 9,
   "metadata": {},
   "outputs": [],
   "source": [
    "## AGE COLUMN - Removes ages outside resonable range\n",
    "df.loc[(df['Age'] > 90) | (df['Age'] < 16), 'Age'] = None"
   ]
  },
  {
   "cell_type": "code",
   "execution_count": 10,
   "metadata": {},
   "outputs": [],
   "source": [
    "# BUSINESSTRAVEL COLUMN - Make null if value doesnt match one of the 3 categories \n",
    "df.loc[~df['BusinessTravel'].isin(['Non-Travel', 'Travel_Frequently', 'Travel_Rarely']), 'BusinessTravel'] = None"
   ]
  },
  {
   "cell_type": "code",
   "execution_count": 11,
   "metadata": {},
   "outputs": [],
   "source": [
    "## DISTANCEFROMHOME COLUMN - Change abnormal values to Null\n",
    "df.loc[(df['DistanceFromHome'] > 90)] = None"
   ]
  },
  {
   "cell_type": "code",
   "execution_count": 12,
   "metadata": {},
   "outputs": [
    {
     "name": "stdout",
     "output_type": "stream",
     "text": [
      "Unique values in 'DistanceFromHome' (sorted):\n",
      "[1.0, 2.0, 3.0, 4.0, 5.0, 6.0, 7.0, 8.0, 9.0, 10.0, 11.0, 12.0, 13.0, 14.0, 15.0, 16.0, 17.0, 18.0, 19.0, 20.0, 21.0, 22.0, 23.0, 24.0, 25.0, 26.0, 27.0, 28.0, 29.0, 30.0, 31.0, 32.0, 33.0, 34.0, 35.0, 36.0, 37.0, 38.0, 39.0, 40.0, 41.0, 42.0, 43.0, 44.0, 45.0, 46.0, 47.0, 48.0, 49.0, 50.0, None]\n",
      "\n",
      "Are there null values in 'DistanceFromHome'? Yes\n",
      "\n",
      "Describe output for 'DistanceFromHome':\n",
      "       DistanceFromHome\n",
      "count      10021.000000\n",
      "mean          25.322223\n",
      "std           14.453631\n",
      "min            1.000000\n",
      "25%           13.000000\n",
      "50%           25.000000\n",
      "75%           38.000000\n",
      "max           50.000000\n"
     ]
    }
   ],
   "source": [
    "column_df = profiler(df, 'DistanceFromHome')"
   ]
  }
 ],
 "metadata": {
  "kernelspec": {
   "display_name": "base",
   "language": "python",
   "name": "python3"
  },
  "language_info": {
   "codemirror_mode": {
    "name": "ipython",
    "version": 3
   },
   "file_extension": ".py",
   "mimetype": "text/x-python",
   "name": "python",
   "nbconvert_exporter": "python",
   "pygments_lexer": "ipython3",
   "version": "3.12.3"
  }
 },
 "nbformat": 4,
 "nbformat_minor": 2
}
