{
 "cells": [
  {
   "cell_type": "code",
   "execution_count": 26,
   "metadata": {},
   "outputs": [],
   "source": [
    "import pandas as pd\n",
    "from profiler import profiler\n",
    "\n",
    "## CREATE DATAFRAME\n",
    "df = pd.read_excel(\"Employee Turnover Dataset.xlsx\")"
   ]
  },
  {
   "cell_type": "code",
   "execution_count": null,
   "metadata": {},
   "outputs": [],
   "source": [
    "## REMOVE DUPLICATE ROWS\n",
    "df = df.drop_duplicates()"
   ]
  },
  {
   "cell_type": "code",
   "execution_count": null,
   "metadata": {},
   "outputs": [],
   "source": [
    "## AGE COLUMN - Removes ages outside resonable range\n",
    "df.loc[(df['Age'] > 90) | (df['Age'] < 16), 'Age'] = None"
   ]
  },
  {
   "cell_type": "code",
   "execution_count": 29,
   "metadata": {},
   "outputs": [],
   "source": [
    "# BUSINESSTRAVEL COLUMN - Make null if value doesnt match one of the 3 categories \n",
    "df.loc[~df['BusinessTravel'].isin(['Non-Travel', 'Travel_Frequently', 'Travel_Rarely']), 'BusinessTravel'] = None"
   ]
  },
  {
   "cell_type": "code",
   "execution_count": 33,
   "metadata": {},
   "outputs": [
    {
     "name": "stdout",
     "output_type": "stream",
     "text": [
      "Unique values in 'Turnover':\n",
      "['Yes' 'No']\n",
      "\n",
      "Describe output for 'Turnover':\n",
      "       Turnover\n",
      "count     10024\n",
      "unique        2\n",
      "top          No\n",
      "freq       5136\n"
     ]
    }
   ],
   "source": [
    "column_df = profiler(df, 'Turnover')"
   ]
  }
 ],
 "metadata": {
  "kernelspec": {
   "display_name": "base",
   "language": "python",
   "name": "python3"
  },
  "language_info": {
   "codemirror_mode": {
    "name": "ipython",
    "version": 3
   },
   "file_extension": ".py",
   "mimetype": "text/x-python",
   "name": "python",
   "nbconvert_exporter": "python",
   "pygments_lexer": "ipython3",
   "version": "3.12.3"
  }
 },
 "nbformat": 4,
 "nbformat_minor": 2
}
