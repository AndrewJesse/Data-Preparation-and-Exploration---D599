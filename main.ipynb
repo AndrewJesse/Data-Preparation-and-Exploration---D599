{
 "cells": [
  {
   "cell_type": "code",
   "execution_count": 1,
   "metadata": {},
   "outputs": [],
   "source": [
    "import pandas as pd\n",
    "from profiler import profiler\n",
    "\n",
    "## CREATE DATAFRAME\n",
    "df = pd.read_excel(\"Employee Turnover Dataset.xlsx\")"
   ]
  },
  {
   "cell_type": "code",
   "execution_count": 2,
   "metadata": {},
   "outputs": [],
   "source": [
    "## REMOVE DUPLICATE ROWS\n",
    "df = df.drop_duplicates()"
   ]
  },
  {
   "cell_type": "code",
   "execution_count": 3,
   "metadata": {},
   "outputs": [],
   "source": [
    "## AGE COLUMN - Removes ages outside resonable range\n",
    "df.loc[(df['Age'] > 90) | (df['Age'] < 16), 'Age'] = None"
   ]
  },
  {
   "cell_type": "code",
   "execution_count": 4,
   "metadata": {},
   "outputs": [],
   "source": [
    "# BUSINESSTRAVEL COLUMN - Make null if value doesnt match one of the 3 categories \n",
    "df.loc[~df['BusinessTravel'].isin(['Non-Travel', 'Travel_Frequently', 'Travel_Rarely']), 'BusinessTravel'] = None"
   ]
  },
  {
   "cell_type": "code",
   "execution_count": 5,
   "metadata": {},
   "outputs": [],
   "source": [
    "## DISTANCEFROMHOME COLUMN - Change abnormal values to Null\n",
    "df.loc[(df['DistanceFromHome'] > 90)] = None"
   ]
  },
  {
   "cell_type": "code",
   "execution_count": 6,
   "metadata": {},
   "outputs": [
    {
     "name": "stdout",
     "output_type": "stream",
     "text": [
      "All values in 'Education' are of type float.\n",
      "\n",
      "Number of NaN or Null values in 'Education': 3\n",
      "Number of blank space values in 'Education': 0\n",
      "\n",
      "Unique values in 'Education' (sorted):\n",
      "[1.0, 2.0, 3.0, 4.0, 5.0, nan]\n",
      "\n",
      "Are there null values in 'Education'? Yes\n",
      "\n",
      "Describe output for 'Education':\n",
      "          Education\n",
      "count  10021.000000\n",
      "mean       2.973057\n",
      "std        1.416777\n",
      "min        1.000000\n",
      "25%        2.000000\n",
      "50%        3.000000\n",
      "75%        4.000000\n",
      "max        5.000000\n"
     ]
    }
   ],
   "source": [
    "column_df = profiler(df, 'Education')"
   ]
  }
 ],
 "metadata": {
  "kernelspec": {
   "display_name": "base",
   "language": "python",
   "name": "python3"
  },
  "language_info": {
   "codemirror_mode": {
    "name": "ipython",
    "version": 3
   },
   "file_extension": ".py",
   "mimetype": "text/x-python",
   "name": "python",
   "nbconvert_exporter": "python",
   "pygments_lexer": "ipython3",
   "version": "3.12.3"
  }
 },
 "nbformat": 4,
 "nbformat_minor": 2
}
