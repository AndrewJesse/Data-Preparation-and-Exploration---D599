{
 "cells": [
  {
   "cell_type": "code",
   "execution_count": null,
   "metadata": {},
   "outputs": [],
   "source": [
    "import pandas as pd\n",
    "import numpy as np\n",
    "from profiler import profiler\n",
    "\n",
    "# CREATE DATAFRAME\n",
    "df = pd.read_excel(\"Employee Turnover Dataset.xlsx\")\n",
    "\n",
    "# REMOVE DUPLICATE ROWS\n",
    "df = df.drop_duplicates()\n",
    "\n",
    "# CONVERT NoneType TO NaN AND REPLACE BLANKS WITH NaN\n",
    "df = df.map(lambda x: np.nan if x is None or (isinstance(x, str) and x.strip() == '') else x)"
   ]
  },
  {
   "cell_type": "code",
   "execution_count": null,
   "metadata": {},
   "outputs": [],
   "source": [
    "profiler(df, 'Age')"
   ]
  },
  {
   "cell_type": "code",
   "execution_count": null,
   "metadata": {},
   "outputs": [],
   "source": [
    "# AGE COLUMN - Removes ages outside reasonable range\n",
    "df.loc[(df['Age'] > 90) | (df['Age'] < 16), 'Age'] = np.NaN"
   ]
  },
  {
   "cell_type": "code",
   "execution_count": null,
   "metadata": {},
   "outputs": [],
   "source": [
    "# BUSINESSTRAVEL COLUMN - Make NaN if value doesn't match 1 of the 3 categories \n",
    "df.loc[~df['BusinessTravel'].isin(['Non-Travel', 'Travel_Frequently', 'Travel_Rarely']), 'BusinessTravel'] = np.nan"
   ]
  },
  {
   "cell_type": "code",
   "execution_count": null,
   "metadata": {},
   "outputs": [],
   "source": [
    "# DISTANCEFROMHOME COLUMN - Change abnormal values to NaN\n",
    "df.loc[(df['DistanceFromHome'] > 90), 'DistanceFromHome'] = np.NaN"
   ]
  },
  {
   "cell_type": "code",
   "execution_count": null,
   "metadata": {},
   "outputs": [],
   "source": [
    "## EMPLOYEECOUNT COLUMN - Should always be 1\n",
    "df['EmployeeCount'] = df['EmployeeCount'].map(lambda x: 1 if x != 1 else x)"
   ]
  },
  {
   "cell_type": "code",
   "execution_count": null,
   "metadata": {},
   "outputs": [],
   "source": [
    "## MONTHLYINCOME - Change negative values to absolute values\n",
    "df['MonthlyIncome'] = df['MonthlyIncome'].abs()"
   ]
  },
  {
   "cell_type": "code",
   "execution_count": null,
   "metadata": {},
   "outputs": [],
   "source": [
    "# MONTHLYRATE COLUMN - Change abnormal values to NaN\n",
    "df.loc[(df['MonthlyRate'] > 5500100), 'MonthlyRate'] = np.NaN"
   ]
  },
  {
   "cell_type": "code",
   "execution_count": null,
   "metadata": {},
   "outputs": [],
   "source": [
    "## TOTALWORKINGYEARS - Convert negative numbers to NaN\n",
    "df.loc[(df['TotalWorkingYears'] < 0), 'TotalWorkingYears'] = np.NaN"
   ]
  },
  {
   "cell_type": "code",
   "execution_count": null,
   "metadata": {},
   "outputs": [],
   "source": [
    "## TRAININGTIMESLASTYEAR - Convert NaN hours to 0 hours, has many NaN values but no zero values \n",
    "df.loc[pd.isna(df['TrainingTimesLastYear']), 'TrainingTimesLastYear'] = 0"
   ]
  },
  {
   "cell_type": "code",
   "execution_count": null,
   "metadata": {},
   "outputs": [],
   "source": [
    "## YEARSWITHCURRENTMANAGER - Convert outlying data to NaN\n",
    "\n",
    "# Replace non-integer values with NaN\n",
    "df.loc[~df['YearsWithCurrManager'].apply(lambda x: isinstance(x, int)), 'YearsWithCurrManager'] = np.NaN\n",
    "\n",
    "# Replace values less than 0 or greater than 100 with NaN\n",
    "df.loc[(df['YearsWithCurrManager'] < 0) | (df['YearsWithCurrManager'] > 100), 'YearsWithCurrManager'] = np.NaN"
   ]
  },
  {
   "cell_type": "code",
   "execution_count": null,
   "metadata": {},
   "outputs": [],
   "source": [
    "## CUSTOM PROFILER SCRIPT\n",
    "profiler(df, 'Gender')\n",
    "\n",
    "#df.to_excel('cleaned_data.xlsx', index=False)"
   ]
  }
 ],
 "metadata": {
  "kernelspec": {
   "display_name": "base",
   "language": "python",
   "name": "python3"
  },
  "language_info": {
   "codemirror_mode": {
    "name": "ipython",
    "version": 3
   },
   "file_extension": ".py",
   "mimetype": "text/x-python",
   "name": "python",
   "nbconvert_exporter": "python",
   "pygments_lexer": "ipython3",
   "version": "3.12.3"
  }
 },
 "nbformat": 4,
 "nbformat_minor": 2
}
