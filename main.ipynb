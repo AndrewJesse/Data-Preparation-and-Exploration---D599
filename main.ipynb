{
 "cells": [
  {
   "cell_type": "code",
   "execution_count": 6,
   "metadata": {},
   "outputs": [],
   "source": [
    "import pandas as pd\n",
    "import numpy as np\n",
    "from profiler import profiler\n",
    "\n",
    "# CREATE DATAFRAME\n",
    "df = pd.read_excel(\"Employee Turnover Dataset.xlsx\")\n",
    "\n",
    "# REMOVE DUPLICATE ROWS\n",
    "df = df.drop_duplicates()\n",
    "\n",
    "# CONVERT NoneType TO NaN AND REPLACE BLANKS WITH NaN\n",
    "df = df.map(lambda x: np.nan if x is None or (isinstance(x, str) and x.strip() == '') else x)"
   ]
  },
  {
   "cell_type": "code",
   "execution_count": 7,
   "metadata": {},
   "outputs": [],
   "source": [
    "# AGE COLUMN - Removes ages outside reasonable range\n",
    "df.loc[(df['Age'] > 90) | (df['Age'] < 16), 'Age'] = np.nan"
   ]
  },
  {
   "cell_type": "code",
   "execution_count": 8,
   "metadata": {},
   "outputs": [],
   "source": [
    "# BUSINESSTRAVEL COLUMN - Make null if value doesn't match 1 of the 3 categories \n",
    "df.loc[~df['BusinessTravel'].isin(['Non-Travel', 'Travel_Frequently', 'Travel_Rarely']), 'BusinessTravel'] = np.nan"
   ]
  },
  {
   "cell_type": "code",
   "execution_count": 9,
   "metadata": {},
   "outputs": [],
   "source": [
    "# DISTANCEFROMHOME COLUMN - Change abnormal values to Null\n",
    "df.loc[(df['DistanceFromHome'] > 90), 'DistanceFromHome'] = np.nan"
   ]
  },
  {
   "cell_type": "code",
   "execution_count": 11,
   "metadata": {},
   "outputs": [
    {
     "name": "stdout",
     "output_type": "stream",
     "text": [
      "All values in 'EmployeeCount' are of type int.\n",
      "\n",
      "Number of NaN or Null values in 'EmployeeCount': 0\n",
      "Number of blank space values in 'EmployeeCount': 0\n",
      "\n",
      "Unique values in 'EmployeeCount' (sorted):\n",
      "[-1, 1, 3]\n",
      "\n",
      "Are there null values in 'EmployeeCount'? No\n",
      "\n",
      "Describe output for 'EmployeeCount':\n",
      "       EmployeeCount\n",
      "count   10024.000000\n",
      "mean        0.999800\n",
      "std         0.034601\n",
      "min        -1.000000\n",
      "25%         1.000000\n",
      "50%         1.000000\n",
      "75%         1.000000\n",
      "max         3.000000\n"
     ]
    }
   ],
   "source": [
    "column_df = profiler(df, 'EmployeeCount')"
   ]
  }
 ],
 "metadata": {
  "kernelspec": {
   "display_name": "base",
   "language": "python",
   "name": "python3"
  },
  "language_info": {
   "codemirror_mode": {
    "name": "ipython",
    "version": 3
   },
   "file_extension": ".py",
   "mimetype": "text/x-python",
   "name": "python",
   "nbconvert_exporter": "python",
   "pygments_lexer": "ipython3",
   "version": "3.12.3"
  }
 },
 "nbformat": 4,
 "nbformat_minor": 2
}
